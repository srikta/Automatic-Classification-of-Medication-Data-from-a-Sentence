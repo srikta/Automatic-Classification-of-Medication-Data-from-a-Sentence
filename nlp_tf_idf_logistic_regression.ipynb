{
  "nbformat": 4,
  "nbformat_minor": 0,
  "metadata": {
    "colab": {
      "provenance": []
    },
    "kernelspec": {
      "name": "python3",
      "display_name": "Python 3"
    },
    "language_info": {
      "name": "python"
    }
  },
  "cells": [
    {
      "cell_type": "code",
      "execution_count": 1,
      "metadata": {
        "colab": {
          "base_uri": "https://localhost:8080/"
        },
        "id": "tnoARh_fyUPL",
        "outputId": "7cd94f88-511f-42cd-d990-e81c545982a3"
      },
      "outputs": [
        {
          "output_type": "stream",
          "name": "stdout",
          "text": [
            "                                                text label\n",
            "0  Prevent Malaria Attack by using Mosquito NetKe...     1\n",
            "1  There's a malaria vaccine. The only approved v...     1\n",
            "2  Hello doctor please how safe are fansider and ...     0\n",
            "3  Much later in the future, it would be released...     1\n",
            "4  signs of stroke...let her see a good doctor..r...     1\n",
            "5          Possibly! It will also do same to malaria     1\n",
            "6  go to my previous post where infolekan quoted ...     1\n",
            "7  Bros, I no get malaria but I go like know the ...     1\n",
            "8  Poor man suffered a fatal stroke. His face is ...     0\n",
            "9  There are many causes to that but to mention b...     1\n"
          ]
        }
      ],
      "source": [
        "import pandas as pd\n",
        "\n",
        "# Read the CSV file with the first row as column names\n",
        "dis_text = pd.read_csv('/content/train_final.csv')\n",
        "\n",
        "# Now 'dis_text' DataFrame has the first row as column names\n",
        "print(dis_text.head(10))\n"
      ]
    },
    {
      "cell_type": "code",
      "source": [
        "column_names = dis_text.columns\n",
        "\n",
        "print(\"Column names:\")\n",
        "for col in column_names:\n",
        "    print(col)"
      ],
      "metadata": {
        "colab": {
          "base_uri": "https://localhost:8080/"
        },
        "id": "izxwEmFIzFPT",
        "outputId": "540c26c5-f6b8-4a58-86b8-e4f1c7295b47"
      },
      "execution_count": 2,
      "outputs": [
        {
          "output_type": "stream",
          "name": "stdout",
          "text": [
            "Column names:\n",
            "text\n",
            "label\n"
          ]
        }
      ]
    },
    {
      "cell_type": "code",
      "source": [
        "\n",
        "num_rows, num_columns = dis_text.shape\n",
        "\n",
        "print(f\"Number of rows: {num_rows}\")\n",
        "print(f\"Number of columns: {num_columns}\")\n"
      ],
      "metadata": {
        "colab": {
          "base_uri": "https://localhost:8080/"
        },
        "id": "stj5H4CDzqF-",
        "outputId": "bc6af2bd-0ec5-4214-953c-02bd3fabe192"
      },
      "execution_count": 3,
      "outputs": [
        {
          "output_type": "stream",
          "name": "stdout",
          "text": [
            "Number of rows: 4521\n",
            "Number of columns: 2\n"
          ]
        }
      ]
    },
    {
      "cell_type": "code",
      "source": [
        "\n",
        "has_nan_values = dis_text.isna().any(axis=1)\n",
        "\n",
        "# Select rows with at least one NaN value\n",
        "rows_with_nan = dis_text[has_nan_values]\n",
        "\n",
        "print(\"Rows with NaN values:\")\n",
        "print(rows_with_nan)\n"
      ],
      "metadata": {
        "colab": {
          "base_uri": "https://localhost:8080/"
        },
        "id": "v8_yIqu10bGR",
        "outputId": "1d0fc738-b719-4301-ddd4-f7fbcb90c8f7"
      },
      "execution_count": 4,
      "outputs": [
        {
          "output_type": "stream",
          "name": "stdout",
          "text": [
            "Rows with NaN values:\n",
            "     text label\n",
            "2596  NaN     1\n"
          ]
        }
      ]
    },
    {
      "cell_type": "code",
      "source": [
        "dis_text_clean=dis_text.dropna()\n",
        "print(dis_text_clean.head(10))"
      ],
      "metadata": {
        "colab": {
          "base_uri": "https://localhost:8080/"
        },
        "id": "EMQGZQcy1OkW",
        "outputId": "31992b43-c1be-4701-b07f-f6c1eae708ba"
      },
      "execution_count": 5,
      "outputs": [
        {
          "output_type": "stream",
          "name": "stdout",
          "text": [
            "                                                text label\n",
            "0  Prevent Malaria Attack by using Mosquito NetKe...     1\n",
            "1  There's a malaria vaccine. The only approved v...     1\n",
            "2  Hello doctor please how safe are fansider and ...     0\n",
            "3  Much later in the future, it would be released...     1\n",
            "4  signs of stroke...let her see a good doctor..r...     1\n",
            "5          Possibly! It will also do same to malaria     1\n",
            "6  go to my previous post where infolekan quoted ...     1\n",
            "7  Bros, I no get malaria but I go like know the ...     1\n",
            "8  Poor man suffered a fatal stroke. His face is ...     0\n",
            "9  There are many causes to that but to mention b...     1\n"
          ]
        }
      ]
    },
    {
      "cell_type": "code",
      "source": [
        "print(dis_text_clean.isnull().values.any())"
      ],
      "metadata": {
        "colab": {
          "base_uri": "https://localhost:8080/"
        },
        "id": "tN2jWfHv1e1R",
        "outputId": "133dc2dd-3919-430d-a93d-ebe380d74008"
      },
      "execution_count": 6,
      "outputs": [
        {
          "output_type": "stream",
          "name": "stdout",
          "text": [
            "False\n"
          ]
        }
      ]
    },
    {
      "cell_type": "code",
      "source": [
        "dis_text_clean.label.unique()"
      ],
      "metadata": {
        "colab": {
          "base_uri": "https://localhost:8080/"
        },
        "id": "ahA7KNAz22UG",
        "outputId": "a81eb8cd-636d-44ce-d8c3-1cedd25c23c0"
      },
      "execution_count": 7,
      "outputs": [
        {
          "output_type": "execute_result",
          "data": {
            "text/plain": [
              "array(['1', '0', '2', 'label'], dtype=object)"
            ]
          },
          "metadata": {},
          "execution_count": 7
        }
      ]
    },
    {
      "cell_type": "code",
      "source": [
        "\n",
        "data_type = dis_text_clean['label'].dtype\n",
        "\n",
        "print(f\"Data type of 'label': {data_type}\")\n"
      ],
      "metadata": {
        "colab": {
          "base_uri": "https://localhost:8080/"
        },
        "id": "c_q6NgzS4VKL",
        "outputId": "e95161f6-651e-4a8d-d84e-d4ffdd9a7808"
      },
      "execution_count": 8,
      "outputs": [
        {
          "output_type": "stream",
          "name": "stdout",
          "text": [
            "Data type of 'label': object\n"
          ]
        }
      ]
    },
    {
      "cell_type": "code",
      "source": [
        "from sklearn.model_selection import train_test_split\n",
        "X = dis_text_clean.text\n",
        "y = dis_text_clean.label\n",
        "#split data\n",
        "X_train, X_test, y_train, y_test = train_test_split(X, y, train_size = 0.6, random_state = 1)"
      ],
      "metadata": {
        "id": "4qjtQNWr7iA_"
      },
      "execution_count": 12,
      "outputs": []
    },
    {
      "cell_type": "code",
      "source": [
        "from sklearn.pipeline import Pipeline\n",
        "from sklearn.feature_extraction.text import TfidfVectorizer\n",
        "from sklearn.linear_model import LogisticRegression\n",
        "from sklearn.metrics import accuracy_score, precision_score, recall_score, f1_score, classification_report\n",
        "\n",
        "# Define the model pipeline with Logistic Regression\n",
        "model_pipeline_lr = Pipeline([\n",
        "    ('tfidf', TfidfVectorizer()),\n",
        "    ('lr', LogisticRegression())\n",
        "])\n",
        "\n",
        "# Train the model\n",
        "model_pipeline_lr.fit(X_train, y_train)\n",
        "\n",
        "# Predict on the test set\n",
        "y_pred_lr = model_pipeline_lr.predict(X_test)\n",
        "\n",
        "# Evaluate the model\n",
        "accuracy_lr = accuracy_score(y_test, y_pred_lr)\n",
        "precision_lr = precision_score(y_test, y_pred_lr, average='weighted')\n",
        "recall_lr = recall_score(y_test, y_pred_lr, average='weighted')\n",
        "f1_score_lr = f1_score(y_test, y_pred_lr, average='weighted')\n",
        "classification_report_lr = classification_report(y_test, y_pred_lr)\n",
        "\n",
        "# Print evaluation metrics\n",
        "print(\"Evaluation Metrics for Logistic Regression Model\")\n",
        "print(\"------------------------------------------------\")\n",
        "print(classification_report_lr)\n",
        ""
      ],
      "metadata": {
        "colab": {
          "base_uri": "https://localhost:8080/"
        },
        "id": "CdZbYuAG9SnA",
        "outputId": "ff158f20-17b6-4fea-eef7-ec9ae84fb5cf"
      },
      "execution_count": 13,
      "outputs": [
        {
          "output_type": "stream",
          "name": "stdout",
          "text": [
            "Evaluation Metrics for Logistic Regression Model\n",
            "------------------------------------------------\n",
            "              precision    recall  f1-score   support\n",
            "\n",
            "           0       0.73      0.47      0.57       368\n",
            "           1       0.75      0.91      0.82      1171\n",
            "           2       0.60      0.33      0.43       269\n",
            "\n",
            "    accuracy                           0.73      1808\n",
            "   macro avg       0.69      0.57      0.61      1808\n",
            "weighted avg       0.72      0.73      0.71      1808\n",
            "\n"
          ]
        }
      ]
    },
    {
      "cell_type": "code",
      "source": [
        "#to save the model\n",
        "from joblib import dump\n",
        "dump(model_pipeline_lr, 'medication-classification_tf-idf.pkl')"
      ],
      "metadata": {
        "colab": {
          "base_uri": "https://localhost:8080/"
        },
        "id": "tbHhjEJ79aPJ",
        "outputId": "00484f09-eddf-4936-e630-bf6989c31587"
      },
      "execution_count": 14,
      "outputs": [
        {
          "output_type": "execute_result",
          "data": {
            "text/plain": [
              "['medication-classification_tf-idf.pkl']"
            ]
          },
          "metadata": {},
          "execution_count": 14
        }
      ]
    }
  ]
}