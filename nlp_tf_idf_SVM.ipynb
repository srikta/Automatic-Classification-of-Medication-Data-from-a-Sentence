{
  "nbformat": 4,
  "nbformat_minor": 0,
  "metadata": {
    "colab": {
      "provenance": []
    },
    "kernelspec": {
      "name": "python3",
      "display_name": "Python 3"
    },
    "language_info": {
      "name": "python"
    }
  },
  "cells": [
    {
      "cell_type": "code",
      "execution_count": 1,
      "metadata": {
        "colab": {
          "base_uri": "https://localhost:8080/"
        },
        "id": "-EDz7iLQy7zg",
        "outputId": "96a2a2b2-14c1-4ed6-cb41-d642a4770109"
      },
      "outputs": [
        {
          "output_type": "stream",
          "name": "stdout",
          "text": [
            "                                                text label\n",
            "0  Prevent Malaria Attack by using Mosquito NetKe...     1\n",
            "1  There's a malaria vaccine. The only approved v...     1\n",
            "2  Hello doctor please how safe are fansider and ...     0\n",
            "3  Much later in the future, it would be released...     1\n",
            "4  signs of stroke...let her see a good doctor..r...     1\n",
            "5          Possibly! It will also do same to malaria     1\n",
            "6  go to my previous post where infolekan quoted ...     1\n",
            "7  Bros, I no get malaria but I go like know the ...     1\n",
            "8  Poor man suffered a fatal stroke. His face is ...     0\n",
            "9  There are many causes to that but to mention b...     1\n"
          ]
        }
      ],
      "source": [
        "import pandas as pd\n",
        "\n",
        "# Read the CSV file with the first row as column names\n",
        "dis_text = pd.read_csv('/content/train_final.csv')\n",
        "\n",
        "# Now 'dis_text' DataFrame has the first row as column names\n",
        "print(dis_text.head(10))"
      ]
    },
    {
      "cell_type": "code",
      "source": [
        "dis_text_clean=dis_text.dropna()\n",
        "print(dis_text_clean.isnull().values.any())"
      ],
      "metadata": {
        "colab": {
          "base_uri": "https://localhost:8080/"
        },
        "id": "itRe0kmR3SfR",
        "outputId": "d72ab7cb-0010-417a-b6d4-b695615038f8"
      },
      "execution_count": 2,
      "outputs": [
        {
          "output_type": "stream",
          "name": "stdout",
          "text": [
            "False\n"
          ]
        }
      ]
    },
    {
      "cell_type": "code",
      "source": [
        "from sklearn.model_selection import train_test_split\n",
        "X = dis_text_clean.text\n",
        "y = dis_text_clean.label\n",
        "#split data\n",
        "X_train, X_test, y_train, y_test = train_test_split(X, y, train_size = 0.7, random_state = 1)"
      ],
      "metadata": {
        "id": "zGFmT7CX3YCP"
      },
      "execution_count": 5,
      "outputs": []
    },
    {
      "cell_type": "code",
      "source": [
        "from sklearn.pipeline import Pipeline\n",
        "from sklearn.feature_extraction.text import TfidfVectorizer\n",
        "from sklearn.svm import SVC\n",
        "from sklearn.metrics import accuracy_score, precision_score, recall_score, f1_score, classification_report\n",
        "from joblib import dump, load\n",
        "\n",
        "# Define the model pipeline with SVM classifier\n",
        "model_pipeline_svm = Pipeline([\n",
        "    ('tfidf', TfidfVectorizer()),\n",
        "    ('svm', SVC())\n",
        "])\n",
        "\n",
        "# Train the model\n",
        "model_pipeline_svm.fit(X_train, y_train)\n",
        "\n",
        "# Predict on the test set\n",
        "y_pred_svm = model_pipeline_svm.predict(X_test)\n",
        "\n",
        "# Evaluate the model\n",
        "accuracy_svm = accuracy_score(y_test, y_pred_svm)\n",
        "precision_svm = precision_score(y_test, y_pred_svm, average='weighted')\n",
        "recall_svm = recall_score(y_test, y_pred_svm, average='weighted')\n",
        "f1_score_svm = f1_score(y_test, y_pred_svm, average='weighted')\n",
        "classification_report_svm = classification_report(y_test, y_pred_svm)\n",
        "\n",
        "# Print evaluation metrics\n",
        "print(\"Evaluation Metrics for SVM Model\")\n",
        "print(\"---------------------------------\")\n",
        "print(classification_report_svm)\n",
        "\n"
      ],
      "metadata": {
        "colab": {
          "base_uri": "https://localhost:8080/"
        },
        "id": "XR-s1uWS3cc7",
        "outputId": "a9148205-1a96-47b9-dd53-4cbf07f44843"
      },
      "execution_count": 4,
      "outputs": [
        {
          "output_type": "stream",
          "name": "stdout",
          "text": [
            "Evaluation Metrics for SVM Model\n",
            "---------------------------------\n",
            "              precision    recall  f1-score   support\n",
            "\n",
            "           0       0.73      0.41      0.52       184\n",
            "           1       0.70      0.93      0.80       574\n",
            "           2       0.60      0.19      0.29       146\n",
            "\n",
            "    accuracy                           0.70       904\n",
            "   macro avg       0.68      0.51      0.54       904\n",
            "weighted avg       0.69      0.70      0.66       904\n",
            "\n"
          ]
        }
      ]
    },
    {
      "cell_type": "code",
      "source": [
        "#to save the model\n",
        "from joblib import dump\n",
        "dump(model_pipeline_svm, 'medication-classification_tf-idf_decision_tree.pkl')"
      ],
      "metadata": {
        "colab": {
          "base_uri": "https://localhost:8080/"
        },
        "id": "PeAhlexB30kW",
        "outputId": "9c793161-24fe-43e2-9c58-9ce890660e40"
      },
      "execution_count": 6,
      "outputs": [
        {
          "output_type": "execute_result",
          "data": {
            "text/plain": [
              "['medication-classification_tf-idf_decision_tree.pkl']"
            ]
          },
          "metadata": {},
          "execution_count": 6
        }
      ]
    }
  ]
}