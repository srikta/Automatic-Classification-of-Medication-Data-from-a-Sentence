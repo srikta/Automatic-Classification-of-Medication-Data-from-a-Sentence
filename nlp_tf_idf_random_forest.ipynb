{
  "nbformat": 4,
  "nbformat_minor": 0,
  "metadata": {
    "colab": {
      "provenance": []
    },
    "kernelspec": {
      "name": "python3",
      "display_name": "Python 3"
    },
    "language_info": {
      "name": "python"
    }
  },
  "cells": [
    {
      "cell_type": "code",
      "execution_count": 1,
      "metadata": {
        "colab": {
          "base_uri": "https://localhost:8080/"
        },
        "id": "9BJw06hKTDyi",
        "outputId": "1dd4e22a-8548-467a-df30-3accefa1bc33"
      },
      "outputs": [
        {
          "output_type": "stream",
          "name": "stdout",
          "text": [
            "                                                text label\n",
            "0  Prevent Malaria Attack by using Mosquito NetKe...     1\n",
            "1  There's a malaria vaccine. The only approved v...     1\n",
            "2  Hello doctor please how safe are fansider and ...     0\n",
            "3  Much later in the future, it would be released...     1\n",
            "4  signs of stroke...let her see a good doctor..r...     1\n",
            "5          Possibly! It will also do same to malaria     1\n",
            "6  go to my previous post where infolekan quoted ...     1\n",
            "7  Bros, I no get malaria but I go like know the ...     1\n",
            "8  Poor man suffered a fatal stroke. His face is ...     0\n",
            "9  There are many causes to that but to mention b...     1\n"
          ]
        }
      ],
      "source": [
        "import pandas as pd\n",
        "\n",
        "# Read the CSV file with the first row as column names\n",
        "dis_text = pd.read_csv('/content/train_final.csv')\n",
        "\n",
        "# Now 'dis_text' DataFrame has the first row as column names\n",
        "print(dis_text.head(10))\n"
      ]
    },
    {
      "cell_type": "code",
      "source": [
        "dis_text_clean=dis_text.dropna()\n",
        "print(dis_text_clean.isnull().values.any())"
      ],
      "metadata": {
        "colab": {
          "base_uri": "https://localhost:8080/"
        },
        "id": "hzp2vfZGwkXm",
        "outputId": "15561b79-6c99-4bb3-95de-f768792e5d64"
      },
      "execution_count": 2,
      "outputs": [
        {
          "output_type": "stream",
          "name": "stdout",
          "text": [
            "False\n"
          ]
        }
      ]
    },
    {
      "cell_type": "code",
      "source": [
        "from sklearn.model_selection import train_test_split\n",
        "X = dis_text_clean.text\n",
        "y = dis_text_clean.label\n",
        "#split data\n",
        "X_train, X_test, y_train, y_test = train_test_split(X, y, train_size = 0.7, random_state = 1)"
      ],
      "metadata": {
        "id": "Pbvr6Zl5wmiT"
      },
      "execution_count": 7,
      "outputs": []
    },
    {
      "cell_type": "code",
      "source": [
        "from sklearn.pipeline import Pipeline\n",
        "from sklearn.feature_extraction.text import TfidfVectorizer\n",
        "from sklearn.ensemble import RandomForestClassifier\n",
        "from sklearn.metrics import accuracy_score, precision_score, recall_score, f1_score, classification_report\n",
        "\n",
        "\n",
        "# Define the model pipeline with Random Forest Classifier\n",
        "model_pipeline_rf = Pipeline([\n",
        "    ('tfidf', TfidfVectorizer()),\n",
        "    ('rf', RandomForestClassifier())\n",
        "])\n",
        "\n",
        "# Train the model\n",
        "model_pipeline_rf.fit(X_train, y_train)\n",
        "\n",
        "# Predict on the test set\n",
        "y_pred_rf = model_pipeline_rf.predict(X_test)\n",
        "\n",
        "# Evaluate the model\n",
        "accuracy_rf = accuracy_score(y_test, y_pred_rf)\n",
        "precision_rf = precision_score(y_test, y_pred_rf, average='weighted')\n",
        "recall_rf = recall_score(y_test, y_pred_rf, average='weighted')\n",
        "f1_score_rf = f1_score(y_test, y_pred_rf, average='weighted')\n",
        "classification_report_rf = classification_report(y_test, y_pred_rf)\n",
        "\n",
        "# Print evaluation metrics\n",
        "print(\"Evaluation Metrics for Random Forest Model\")\n",
        "print(\"-------------------------------------------\")\n",
        "print(classification_report_rf)\n",
        "\n"
      ],
      "metadata": {
        "colab": {
          "base_uri": "https://localhost:8080/"
        },
        "id": "wxZBCIujwsCW",
        "outputId": "34fa96bc-2574-41e1-94d4-24a609cc4b4a"
      },
      "execution_count": 6,
      "outputs": [
        {
          "output_type": "stream",
          "name": "stdout",
          "text": [
            "Evaluation Metrics for Random Forest Model\n",
            "-------------------------------------------\n",
            "              precision    recall  f1-score   support\n",
            "\n",
            "           0       0.90      0.26      0.41       377\n",
            "           1       0.70      0.95      0.81      1151\n",
            "           2       0.61      0.28      0.38       280\n",
            "\n",
            "    accuracy                           0.70      1808\n",
            "   macro avg       0.74      0.50      0.53      1808\n",
            "weighted avg       0.73      0.70      0.66      1808\n",
            "\n"
          ]
        }
      ]
    },
    {
      "cell_type": "code",
      "source": [
        "#to save the model\n",
        "from joblib import dump\n",
        "dump(model_pipeline_rf, 'medication-classification_tf-idf_random_forest.pkl')"
      ],
      "metadata": {
        "colab": {
          "base_uri": "https://localhost:8080/"
        },
        "id": "IPx1GfXnxJaH",
        "outputId": "7dbba701-7d0e-4eef-c30b-db224f55adee"
      },
      "execution_count": 9,
      "outputs": [
        {
          "output_type": "execute_result",
          "data": {
            "text/plain": [
              "['medication-classification_tf-idf_random_forest.pkl']"
            ]
          },
          "metadata": {},
          "execution_count": 9
        }
      ]
    }
  ]
}