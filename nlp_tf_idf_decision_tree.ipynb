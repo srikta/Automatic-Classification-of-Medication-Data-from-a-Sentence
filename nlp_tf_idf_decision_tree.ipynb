{
  "nbformat": 4,
  "nbformat_minor": 0,
  "metadata": {
    "colab": {
      "provenance": []
    },
    "kernelspec": {
      "name": "python3",
      "display_name": "Python 3"
    },
    "language_info": {
      "name": "python"
    }
  },
  "cells": [
    {
      "cell_type": "code",
      "execution_count": 1,
      "metadata": {
        "colab": {
          "base_uri": "https://localhost:8080/"
        },
        "id": "9BJw06hKTDyi",
        "outputId": "40656cc6-8951-4694-f22f-77dc378faae5"
      },
      "outputs": [
        {
          "output_type": "stream",
          "name": "stdout",
          "text": [
            "                                                text label\n",
            "0  Prevent Malaria Attack by using Mosquito NetKe...     1\n",
            "1  There's a malaria vaccine. The only approved v...     1\n",
            "2  Hello doctor please how safe are fansider and ...     0\n",
            "3  Much later in the future, it would be released...     1\n",
            "4  signs of stroke...let her see a good doctor..r...     1\n",
            "5          Possibly! It will also do same to malaria     1\n",
            "6  go to my previous post where infolekan quoted ...     1\n",
            "7  Bros, I no get malaria but I go like know the ...     1\n",
            "8  Poor man suffered a fatal stroke. His face is ...     0\n",
            "9  There are many causes to that but to mention b...     1\n"
          ]
        }
      ],
      "source": [
        "import pandas as pd\n",
        "\n",
        "# Read the CSV file with the first row as column names\n",
        "dis_text = pd.read_csv('/content/train_final.csv')\n",
        "\n",
        "# Now 'dis_text' DataFrame has the first row as column names\n",
        "print(dis_text.head(10))\n"
      ]
    },
    {
      "cell_type": "code",
      "source": [
        "column_names = dis_text.columns\n",
        "\n",
        "print(\"Column names:\")\n",
        "for col in column_names:\n",
        "    print(col)"
      ],
      "metadata": {
        "colab": {
          "base_uri": "https://localhost:8080/"
        },
        "id": "tgepOu6aXo-i",
        "outputId": "62fbb739-ed25-4569-a306-0b2bf2590116"
      },
      "execution_count": 2,
      "outputs": [
        {
          "output_type": "stream",
          "name": "stdout",
          "text": [
            "Column names:\n",
            "text\n",
            "label\n"
          ]
        }
      ]
    },
    {
      "cell_type": "code",
      "source": [
        "has_nan_values = dis_text.isna().any(axis=1)\n",
        "\n",
        "# Select rows with at least one NaN value\n",
        "rows_with_nan = dis_text[has_nan_values]\n",
        "\n",
        "print(\"Rows with NaN values:\")\n",
        "print(rows_with_nan)\n"
      ],
      "metadata": {
        "colab": {
          "base_uri": "https://localhost:8080/"
        },
        "id": "ldKqRCQZXuRS",
        "outputId": "5c8abd6c-2504-4402-c05d-5500cadc7d57"
      },
      "execution_count": 3,
      "outputs": [
        {
          "output_type": "stream",
          "name": "stdout",
          "text": [
            "Rows with NaN values:\n",
            "     text label\n",
            "2596  NaN     1\n"
          ]
        }
      ]
    },
    {
      "cell_type": "code",
      "source": [
        "dis_text_clean=dis_text.dropna()\n",
        "print(dis_text_clean.isnull().values.any())"
      ],
      "metadata": {
        "colab": {
          "base_uri": "https://localhost:8080/"
        },
        "id": "1mMnISuAX0GR",
        "outputId": "17d72a99-4584-4172-c3ec-ca63035c7d1c"
      },
      "execution_count": 4,
      "outputs": [
        {
          "output_type": "stream",
          "name": "stdout",
          "text": [
            "False\n"
          ]
        }
      ]
    },
    {
      "cell_type": "code",
      "source": [
        "from sklearn.model_selection import train_test_split\n",
        "X = dis_text_clean.text\n",
        "y = dis_text_clean.label\n",
        "#split data\n",
        "X_train, X_test, y_train, y_test = train_test_split(X, y, train_size = 0.8, random_state = 1)"
      ],
      "metadata": {
        "id": "J1-ZGV23YPQc"
      },
      "execution_count": 9,
      "outputs": []
    },
    {
      "cell_type": "code",
      "source": [
        "from sklearn.pipeline import Pipeline\n",
        "from sklearn.feature_extraction.text import TfidfVectorizer\n",
        "from sklearn.tree import DecisionTreeClassifier\n",
        "from sklearn.metrics import accuracy_score, precision_score, recall_score, f1_score, classification_report\n",
        "from joblib import dump, load\n",
        "\n",
        "# Define the model pipeline with Decision Tree Classifier\n",
        "model_pipeline_dt = Pipeline([\n",
        "    ('tfidf', TfidfVectorizer()),\n",
        "    ('dt', DecisionTreeClassifier())\n",
        "])\n",
        "\n",
        "# Train the model\n",
        "model_pipeline_dt.fit(X_train, y_train)\n",
        "\n",
        "# Predict on the test set\n",
        "y_pred_dt = model_pipeline_dt.predict(X_test)\n",
        "\n",
        "# Evaluate the model\n",
        "accuracy_dt = accuracy_score(y_test, y_pred_dt)\n",
        "precision_dt = precision_score(y_test, y_pred_dt, average='weighted')\n",
        "recall_dt = recall_score(y_test, y_pred_dt, average='weighted')\n",
        "f1_score_dt = f1_score(y_test, y_pred_dt, average='weighted')\n",
        "classification_report_dt = classification_report(y_test, y_pred_dt)\n",
        "\n",
        "# Print evaluation metrics\n",
        "print(\"Evaluation Metrics for Decision Tree Model\")\n",
        "print(\"------------------------------------------\")\n",
        "print(classification_report_dt)"
      ],
      "metadata": {
        "colab": {
          "base_uri": "https://localhost:8080/"
        },
        "id": "Wo9HEtKDYfjw",
        "outputId": "340f81b9-906d-4fb0-8937-128076a070be"
      },
      "execution_count": 10,
      "outputs": [
        {
          "output_type": "stream",
          "name": "stdout",
          "text": [
            "Evaluation Metrics for Decision Tree Model\n",
            "------------------------------------------\n",
            "              precision    recall  f1-score   support\n",
            "\n",
            "           0       0.46      0.42      0.44       184\n",
            "           1       0.75      0.78      0.77       574\n",
            "           2       0.52      0.49      0.51       146\n",
            "\n",
            "    accuracy                           0.66       904\n",
            "   macro avg       0.58      0.56      0.57       904\n",
            "weighted avg       0.65      0.66      0.66       904\n",
            "\n"
          ]
        }
      ]
    },
    {
      "cell_type": "code",
      "source": [
        "#to save the model\n",
        "from joblib import dump\n",
        "dump(model_pipeline_dt, 'medication-classification_tf-idf_decision_tree.pkl')"
      ],
      "metadata": {
        "colab": {
          "base_uri": "https://localhost:8080/"
        },
        "id": "R0uXBXmwaaVa",
        "outputId": "e1c5ce6c-4f88-4e74-b794-12792d886f8f"
      },
      "execution_count": 12,
      "outputs": [
        {
          "output_type": "execute_result",
          "data": {
            "text/plain": [
              "['medication-classification_tf-idf_decision_tree.pkl']"
            ]
          },
          "metadata": {},
          "execution_count": 12
        }
      ]
    }
  ]
}